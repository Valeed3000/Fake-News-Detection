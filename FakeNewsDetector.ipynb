{
 "cells": [
  {
   "cell_type": "code",
   "execution_count": 1,
   "id": "b8117b9a-c7ef-4f4c-81f3-744b1572e415",
   "metadata": {},
   "outputs": [
    {
     "name": "stdout",
     "output_type": "stream",
     "text": [
      "Label distribution:\n",
      "label\n",
      "1    17371\n",
      "0     5495\n",
      "Name: count, dtype: int64\n"
     ]
    },
    {
     "name": "stderr",
     "output_type": "stream",
     "text": [
      "[nltk_data] Downloading package stopwords to\n",
      "[nltk_data]     C:\\Users\\valee\\AppData\\Roaming\\nltk_data...\n",
      "[nltk_data]   Package stopwords is already up-to-date!\n"
     ]
    },
    {
     "name": "stdout",
     "output_type": "stream",
     "text": [
      "Logistic Regression Accuracy: 0.8390905115872321\n",
      "\n",
      "Classification Report (Logistic Regression):\n",
      "\n",
      "              precision    recall  f1-score   support\n",
      "\n",
      "           0       0.81      0.44      0.57      1105\n",
      "           1       0.84      0.97      0.90      3469\n",
      "\n",
      "    accuracy                           0.84      4574\n",
      "   macro avg       0.83      0.70      0.74      4574\n",
      "weighted avg       0.83      0.84      0.82      4574\n",
      "\n"
     ]
    },
    {
     "data": {
      "image/png": "[encoded data removed]",
      "text/plain": [
       "<Figure size 640x480 with 2 Axes>"
      ]
     },
     "metadata": {},
     "output_type": "display_data"
    },
    {
     "name": "stdout",
     "output_type": "stream",
     "text": [
      "\n",
      "Naive Bayes Accuracy: 0.8379973764757324\n",
      "Classification Report (Naive Bayes):\n",
      "               precision    recall  f1-score   support\n",
      "\n",
      "           0       0.81      0.43      0.56      1105\n",
      "           1       0.84      0.97      0.90      3469\n",
      "\n",
      "    accuracy                           0.84      4574\n",
      "   macro avg       0.83      0.70      0.73      4574\n",
      "weighted avg       0.83      0.84      0.82      4574\n",
      "\n",
      "\n",
      "Sample prediction: Real\n"
     ]
    }
   ],
   "source": [
    "# ✅ Step 1: Import Required Libraries\n",
    "import pandas as pd\n",
    "import numpy as np\n",
    "import re\n",
    "import nltk\n",
    "from nltk.corpus import stopwords\n",
    "from sklearn.model_selection import train_test_split\n",
    "from sklearn.feature_extraction.text import TfidfVectorizer\n",
    "from sklearn.linear_model import LogisticRegression\n",
    "from sklearn.naive_bayes import MultinomialNB\n",
    "from sklearn.metrics import accuracy_score, confusion_matrix, classification_report\n",
    "import matplotlib.pyplot as plt\n",
    "import seaborn as sns\n",
    "\n",
    "# 🔃 Step 2: Load Dataset\n",
    "df = pd.read_csv(\"FakeNewsNet.csv\")\n",
    "\n",
    "# 🧹 Step 3: Data Preprocessing\n",
    "df = df.rename(columns={'real': 'label'})\n",
    "df = df.dropna()\n",
    "df['label'] = df['label'].astype(int)\n",
    "\n",
    "# Show distribution\n",
    "print(\"Label distribution:\")\n",
    "print(df['label'].value_counts())\n",
    "\n",
    "# Clean text function\n",
    "nltk.download('stopwords')\n",
    "stop_words = set(stopwords.words('english'))\n",
    "\n",
    "def clean_text(text):\n",
    "    text = re.sub(r'http\\S+', '', text)  # remove links\n",
    "    text = re.sub(r'[^a-zA-Z ]', '', text)  # remove non-alphabetic characters\n",
    "    text = text.lower()\n",
    "    text = ' '.join([word for word in text.split() if word not in stop_words])\n",
    "    return text\n",
    "\n",
    "df['clean_title'] = df['title'].apply(clean_text)\n",
    "\n",
    "# 🔀 Step 4: Train-Test Split\n",
    "X_train, X_test, y_train, y_test = train_test_split(df['clean_title'], df['label'], test_size=0.2, random_state=42)\n",
    "\n",
    "# ✨ Step 5: TF-IDF Vectorization\n",
    "tfidf = TfidfVectorizer(max_features=5000)\n",
    "X_train_vec = tfidf.fit_transform(X_train)\n",
    "X_test_vec = tfidf.transform(X_test)\n",
    "\n",
    "# 🤖 Step 6: Logistic Regression Model\n",
    "model = LogisticRegression()\n",
    "model.fit(X_train_vec, y_train)\n",
    "y_pred = model.predict(X_test_vec)\n",
    "\n",
    "print(\"Logistic Regression Accuracy:\", accuracy_score(y_test, y_pred))\n",
    "\n",
    "# 📊 Step 7: Evaluation\n",
    "print(\"\\nClassification Report (Logistic Regression):\\n\")\n",
    "print(classification_report(y_test, y_pred))\n",
    "\n",
    "conf_mat = confusion_matrix(y_test, y_pred)\n",
    "sns.heatmap(conf_mat, annot=True, fmt='d', cmap='Blues')\n",
    "plt.xlabel(\"Predicted\")\n",
    "plt.ylabel(\"Actual\")\n",
    "plt.title(\"Confusion Matrix - Logistic Regression\")\n",
    "plt.show()\n",
    "\n",
    "# 📈 Step 8: Naive Bayes Model\n",
    "nb = MultinomialNB()\n",
    "nb.fit(X_train_vec, y_train)\n",
    "y_pred_nb = nb.predict(X_test_vec)\n",
    "\n",
    "print(\"\\nNaive Bayes Accuracy:\", accuracy_score(y_test, y_pred_nb))\n",
    "print(\"Classification Report (Naive Bayes):\\n\", classification_report(y_test, y_pred_nb))\n",
    "\n",
    "# 🧠 Step 9: Predict Your Own Headlines\n",
    "def predict_news(text):\n",
    "    cleaned = clean_text(text)\n",
    "    vectorized = tfidf.transform([cleaned])\n",
    "    result = model.predict(vectorized)\n",
    "    return \"Real\" if result[0] == 1 else \"Fake\"\n",
    "\n",
    "# Example\n",
    "print(\"\\nSample prediction:\", predict_news(\"Breaking: Government unveils major new healthcare policy\"))\n",
    "\n"
   ]
  }
 ],
 "metadata": {
  "kernelspec": {
   "display_name": "Python 3 (ipykernel)",
   "language": "python",
   "name": "python3"
  },
  "language_info": {
   "codemirror_mode": {
    "name": "ipython",
    "version": 3
   },
   "file_extension": ".py",
   "mimetype": "text/x-python",
   "name": "python",
   "nbconvert_exporter": "python",
   "pygments_lexer": "ipython3",
   "version": "3.13.3"
  }
 },
 "nbformat": 4,
 "nbformat_minor": 5
}
